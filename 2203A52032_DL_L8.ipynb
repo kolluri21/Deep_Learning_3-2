{
  "nbformat": 4,
  "nbformat_minor": 0,
  "metadata": {
    "colab": {
      "provenance": [],
      "include_colab_link": true
    },
    "kernelspec": {
      "name": "python3",
      "display_name": "Python 3"
    },
    "language_info": {
      "name": "python"
    }
  },
  "cells": [
    {
      "cell_type": "markdown",
      "metadata": {
        "id": "view-in-github",
        "colab_type": "text"
      },
      "source": [
        "<a href=\"https://colab.research.google.com/github/2203A52043/Deep_Learning__/blob/main/2203A52043_DL_L8.ipynb\" target=\"_parent\"><img src=\"https://colab.research.google.com/assets/colab-badge.svg\" alt=\"Open In Colab\"/></a>"
      ]
    },
    {
      "cell_type": "code",
      "execution_count": null,
      "metadata": {
        "colab": {
          "base_uri": "https://localhost:8080/"
        },
        "id": "SOAFQvDNjtYv",
        "outputId": "31c7a4eb-4b33-40e1-9bcf-5d40cb5f5751"
      },
      "outputs": [
        {
          "output_type": "stream",
          "name": "stdout",
          "text": [
            "Index([5551.82208], dtype='float64')\n"
          ]
        }
      ],
      "source": [
        "import numpy as np\n",
        "import pandas as pd\n",
        "import matplotlib.pyplot as plt\n",
        "from sklearn.model_selection import train_test_split\n",
        "from sklearn.preprocessing import StandardScaler\n",
        "from sklearn.metrics import mean_squared_error, mean_absolute_error\n",
        "\n",
        "# Hyperparameters\n",
        "eta = 0.1\n",
        "gamma = 0.9\n",
        "m = 1\n",
        "c = -1\n",
        "epochs = 100\n",
        "epsilon = 1e-8\n",
        "df = pd.read_excel(\"/content/Load Data in kW.xlsx\")\n",
        "\n",
        "print(df.columns)"
      ]
    },
    {
      "source": [
        "y = df[df.columns[0]].values\n",
        "\n",
        "# Normalize data\n",
        "scaler = StandardScaler()\n",
        "X = scaler.fit_transform(X.reshape(-1, 1))\n",
        "\n",
        "y = (y - y.mean()) / y.std()"
      ],
      "cell_type": "code",
      "metadata": {
        "id": "HO_nqF4qlRFE"
      },
      "execution_count": null,
      "outputs": []
    },
    {
      "cell_type": "code",
      "source": [
        "X_train, X_test, y_train, y_test = train_test_split(X, y, test_size=0.1, random_state=42)\n",
        "\n",
        "v_m = 0\n",
        "v_c = 0\n",
        "\n",
        "# Training loop\n",
        "for epoch in range(epochs):\n",
        "    grad_m = -np.mean((y_train - (m * X_train.flatten() + c)) * X_train.flatten())\n",
        "    grad_c = -np.mean(y_train - (m * X_train.flatten() + c))\n",
        "\n",
        "    v_m = gamma * v_m + (1 - gamma) * grad_m**2\n",
        "    v_c = gamma * v_c + (1 - gamma) * grad_c**2\n",
        "\n",
        "    m -= (eta / (np.sqrt(v_m) + epsilon)) * grad_m\n",
        "    c -= (eta / (np.sqrt(v_c) + epsilon)) * grad_c\n",
        "\n",
        "    if epoch % 10 == 0:\n",
        "        print(f\"Epoch {epoch}: m = {m}, c = {c}\")\n"
      ],
      "metadata": {
        "colab": {
          "base_uri": "https://localhost:8080/"
        },
        "id": "kjjeM2Suld1K",
        "outputId": "b31707f7-0a05-4ab5-f740-136dd81991fa"
      },
      "execution_count": null,
      "outputs": [
        {
          "output_type": "stream",
          "name": "stdout",
          "text": [
            "Epoch 0: m = 1.2677826751389283, c = 0.26199515486195746\n",
            "Epoch 10: m = 1.0000426361781287, c = 6.824427731082599e-05\n",
            "Epoch 20: m = 1.001691233050434, c = 0.0032750834705764084\n",
            "Epoch 30: m = 1.017537185420111, c = 0.015304150267869868\n",
            "Epoch 40: m = 1.0747666298082748, c = 0.08431998543607222\n",
            "Epoch 50: m = 1.032742627512759, c = 0.03627508309273703\n",
            "Epoch 60: m = 1.0424918981590403, c = 0.04082799970467592\n",
            "Epoch 70: m = 1.0570056249102404, c = 0.055401858274767776\n",
            "Epoch 80: m = 1.050926991662172, c = 0.05200546140637541\n",
            "Epoch 90: m = 1.0474348899389982, c = 0.04773466107875546\n"
          ]
        }
      ]
    },
    {
      "cell_type": "code",
      "source": [
        "\n",
        "# Compute errors for train data\n",
        "y_train_pred = m * X_train.flatten() + c\n",
        "mse_train = mean_squared_error(y_train, y_train_pred)\n",
        "rmse_train = np.sqrt(mse_train)\n",
        "mae_train = mean_absolute_error(y_train, y_train_pred)\n",
        "\n",
        "# Compute errors for test data\n",
        "y_test_pred = m * X_test.flatten() + c\n",
        "mse_test = mean_squared_error(y_test, y_test_pred)\n",
        "rmse_test = np.sqrt(mse_test)\n",
        "mae_test = mean_absolute_error(y_test, y_test_pred)\n",
        "\n",
        "print(\"Training Errors:\")\n",
        "print(f\"MSE: {mse_train}, RMSE: {rmse_train}, MAE: {mae_train}\")\n",
        "\n",
        "print(\"Testing Errors:\")\n",
        "print(f\"MSE: {mse_test}, RMSE: {rmse_test}, MAE: {mae_test}\")"
      ],
      "metadata": {
        "colab": {
          "base_uri": "https://localhost:8080/"
        },
        "id": "My6zchTNlryX",
        "outputId": "dea0bbf5-c1a1-4d65-d4c2-c84cad75617a"
      },
      "execution_count": null,
      "outputs": [
        {
          "output_type": "stream",
          "name": "stdout",
          "text": [
            "Training Errors:\n",
            "MSE: 0.005378230634225423, RMSE: 0.07333642092593164, MAE: 0.05031418320934067\n",
            "Testing Errors:\n",
            "MSE: 0.002436038439903281, RMSE: 0.04935624013134794, MAE: 0.04925597986772705\n"
          ]
        }
      ]
    },
    {
      "cell_type": "code",
      "source": [
        "# Plot results\n",
        "plt.scatter(X_train, y_train, color='blue', label='Actual')\n",
        "plt.plot(X_train, y_train_pred, color='red', label='Predicted')\n",
        "plt.xlabel(\"Load Yesterday\")\n",
        "plt.ylabel(\"Load Today\")\n",
        "plt.title(\"Linear Regression with RMSprop Optimizer\")\n",
        "plt.legend()\n",
        "plt.show()"
      ],
      "metadata": {
        "colab": {
          "base_uri": "https://localhost:8080/",
          "height": 472
        },
        "id": "7lWk94uJluRh",
        "outputId": "7473cd27-1493-4a11-a663-349190e00e1d"
      },
      "execution_count": null,
      "outputs": [
        {
          "output_type": "display_data",
          "data": {
            "text/plain": [
              "<Figure size 640x480 with 1 Axes>"
            ],
            "image/png": "[encoded data removed]"
          },
          "metadata": {}
        }
      ]
    }
  ]
}